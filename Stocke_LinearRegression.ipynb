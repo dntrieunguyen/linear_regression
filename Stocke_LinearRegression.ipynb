{
 "cells": [
  {
   "cell_type": "code",
   "execution_count": 1,
   "metadata": {},
   "outputs": [],
   "source": [
    "import pandas as pd\n",
    "import numpy as np\n",
    "import matplotlib.pyplot as plt\n",
    "import seaborn as sns\n",
    "from sklearn.model_selection import train_test_split\n",
    "from sklearn.linear_model import LinearRegression\n",
    "from sklearn.preprocessing import StandardScaler\n",
    "from sklearn.metrics import r2_score,mean_absolute_percentage_error"
   ]
  },
  {
   "attachments": {},
   "cell_type": "markdown",
   "metadata": {},
   "source": [
    "***Define Problem:***\n",
    "- dự đoán giá cổ phiếu Tesla dựa trên lịch sử giao dịch từ tháng 1/2013 đến tháng 2/2023 bằng model Linear Regression\n",
    "- Đánh giá độ chính xác của mô hình bằng R2, adjust-R2, MSE, MAPE\n",
    "\n",
    "\n",
    "***Input:***\n",
    "- Giá mở cửa, giá đóng cửa, giá thấp nhất, giá cao nhất, khối lượng giao dịch\n",
    "\n",
    "***Ouput:***\n",
    "- Giá đóng cửa cúa cổ phiếu\n",
    "\n",
    "***Prepare data cho model:***\n",
    "- Nguồn dữ liệu: https://finance.yahoo.com/quote/TSLA\n",
    "- Missing/Outlier\n",
    "- Distribution của data\n",
    "\n",
    "***Analyze Data:***\n",
    "- Descriptive\n",
    "- Correlation\n",
    "- Predict"
   ]
  },
  {
   "cell_type": "code",
   "execution_count": 2,
   "metadata": {},
   "outputs": [
    {
     "data": {
      "text/html": [
       "<div>\n",
       "<style scoped>\n",
       "    .dataframe tbody tr th:only-of-type {\n",
       "        vertical-align: middle;\n",
       "    }\n",
       "\n",
       "    .dataframe tbody tr th {\n",
       "        vertical-align: top;\n",
       "    }\n",
       "\n",
       "    .dataframe thead th {\n",
       "        text-align: right;\n",
       "    }\n",
       "</style>\n",
       "<table border=\"1\" class=\"dataframe\">\n",
       "  <thead>\n",
       "    <tr style=\"text-align: right;\">\n",
       "      <th></th>\n",
       "      <th>Date</th>\n",
       "      <th>Open</th>\n",
       "      <th>High</th>\n",
       "      <th>Low</th>\n",
       "      <th>Close</th>\n",
       "      <th>Adj Close</th>\n",
       "      <th>Volume</th>\n",
       "    </tr>\n",
       "  </thead>\n",
       "  <tbody>\n",
       "    <tr>\n",
       "      <th>0</th>\n",
       "      <td>2013-01-22</td>\n",
       "      <td>2.304000</td>\n",
       "      <td>2.370000</td>\n",
       "      <td>2.284000</td>\n",
       "      <td>2.346000</td>\n",
       "      <td>2.346000</td>\n",
       "      <td>28803000</td>\n",
       "    </tr>\n",
       "    <tr>\n",
       "      <th>1</th>\n",
       "      <td>2013-01-23</td>\n",
       "      <td>2.334667</td>\n",
       "      <td>2.416000</td>\n",
       "      <td>2.330667</td>\n",
       "      <td>2.400000</td>\n",
       "      <td>2.400000</td>\n",
       "      <td>23464500</td>\n",
       "    </tr>\n",
       "    <tr>\n",
       "      <th>2</th>\n",
       "      <td>2013-01-24</td>\n",
       "      <td>2.400000</td>\n",
       "      <td>2.514667</td>\n",
       "      <td>2.389333</td>\n",
       "      <td>2.466000</td>\n",
       "      <td>2.466000</td>\n",
       "      <td>29556000</td>\n",
       "    </tr>\n",
       "    <tr>\n",
       "      <th>3</th>\n",
       "      <td>2013-01-25</td>\n",
       "      <td>2.466667</td>\n",
       "      <td>2.502667</td>\n",
       "      <td>2.453333</td>\n",
       "      <td>2.465333</td>\n",
       "      <td>2.465333</td>\n",
       "      <td>19317000</td>\n",
       "    </tr>\n",
       "    <tr>\n",
       "      <th>4</th>\n",
       "      <td>2013-01-28</td>\n",
       "      <td>2.457333</td>\n",
       "      <td>2.580667</td>\n",
       "      <td>2.457333</td>\n",
       "      <td>2.535333</td>\n",
       "      <td>2.535333</td>\n",
       "      <td>29790000</td>\n",
       "    </tr>\n",
       "  </tbody>\n",
       "</table>\n",
       "</div>"
      ],
      "text/plain": [
       "         Date      Open      High       Low     Close  Adj Close    Volume\n",
       "0  2013-01-22  2.304000  2.370000  2.284000  2.346000   2.346000  28803000\n",
       "1  2013-01-23  2.334667  2.416000  2.330667  2.400000   2.400000  23464500\n",
       "2  2013-01-24  2.400000  2.514667  2.389333  2.466000   2.466000  29556000\n",
       "3  2013-01-25  2.466667  2.502667  2.453333  2.465333   2.465333  19317000\n",
       "4  2013-01-28  2.457333  2.580667  2.457333  2.535333   2.535333  29790000"
      ]
     },
     "execution_count": 2,
     "metadata": {},
     "output_type": "execute_result"
    }
   ],
   "source": [
    "df = pd.read_csv('TeslaStocke.csv')\n",
    "df.head()"
   ]
  },
  {
   "cell_type": "code",
   "execution_count": 3,
   "metadata": {},
   "outputs": [
    {
     "name": "stdout",
     "output_type": "stream",
     "text": [
      "<class 'pandas.core.frame.DataFrame'>\n",
      "RangeIndex: 2539 entries, 0 to 2538\n",
      "Data columns (total 7 columns):\n",
      " #   Column     Non-Null Count  Dtype  \n",
      "---  ------     --------------  -----  \n",
      " 0   Date       2539 non-null   object \n",
      " 1   Open       2539 non-null   float64\n",
      " 2   High       2539 non-null   float64\n",
      " 3   Low        2539 non-null   float64\n",
      " 4   Close      2539 non-null   float64\n",
      " 5   Adj Close  2539 non-null   float64\n",
      " 6   Volume     2539 non-null   int64  \n",
      "dtypes: float64(5), int64(1), object(1)\n",
      "memory usage: 139.0+ KB\n"
     ]
    }
   ],
   "source": [
    "df.info()"
   ]
  },
  {
   "attachments": {},
   "cell_type": "markdown",
   "metadata": {},
   "source": [
    "Dữ liệu không có missing\n",
    "\n",
    "Định dạng của date cần được format về dạng datetime\n",
    "\n",
    "Xác định biến phụ thuộc cần dự đoán là giá đóng cửa y: Close\n",
    "\n",
    "Xác định các biến độc lập là các biến còn lại"
   ]
  },
  {
   "cell_type": "code",
   "execution_count": 4,
   "metadata": {},
   "outputs": [
    {
     "data": {
      "text/html": [
       "<div>\n",
       "<style scoped>\n",
       "    .dataframe tbody tr th:only-of-type {\n",
       "        vertical-align: middle;\n",
       "    }\n",
       "\n",
       "    .dataframe tbody tr th {\n",
       "        vertical-align: top;\n",
       "    }\n",
       "\n",
       "    .dataframe thead th {\n",
       "        text-align: right;\n",
       "    }\n",
       "</style>\n",
       "<table border=\"1\" class=\"dataframe\">\n",
       "  <thead>\n",
       "    <tr style=\"text-align: right;\">\n",
       "      <th></th>\n",
       "      <th>Open</th>\n",
       "      <th>High</th>\n",
       "      <th>Low</th>\n",
       "      <th>Close</th>\n",
       "      <th>Adj Close</th>\n",
       "      <th>Volume</th>\n",
       "    </tr>\n",
       "  </thead>\n",
       "  <tbody>\n",
       "    <tr>\n",
       "      <th>count</th>\n",
       "      <td>2539.000000</td>\n",
       "      <td>2539.000000</td>\n",
       "      <td>2539.000000</td>\n",
       "      <td>2539.000000</td>\n",
       "      <td>2539.000000</td>\n",
       "      <td>2.539000e+03</td>\n",
       "    </tr>\n",
       "    <tr>\n",
       "      <th>mean</th>\n",
       "      <td>74.678429</td>\n",
       "      <td>76.379583</td>\n",
       "      <td>72.824258</td>\n",
       "      <td>74.639031</td>\n",
       "      <td>74.639031</td>\n",
       "      <td>1.137200e+08</td>\n",
       "    </tr>\n",
       "    <tr>\n",
       "      <th>std</th>\n",
       "      <td>102.121125</td>\n",
       "      <td>104.498214</td>\n",
       "      <td>99.456874</td>\n",
       "      <td>101.999312</td>\n",
       "      <td>101.999312</td>\n",
       "      <td>8.083709e+07</td>\n",
       "    </tr>\n",
       "    <tr>\n",
       "      <th>min</th>\n",
       "      <td>2.294000</td>\n",
       "      <td>2.330667</td>\n",
       "      <td>2.253333</td>\n",
       "      <td>2.292000</td>\n",
       "      <td>2.292000</td>\n",
       "      <td>6.603000e+06</td>\n",
       "    </tr>\n",
       "    <tr>\n",
       "      <th>25%</th>\n",
       "      <td>14.654666</td>\n",
       "      <td>14.838333</td>\n",
       "      <td>14.367000</td>\n",
       "      <td>14.618666</td>\n",
       "      <td>14.618666</td>\n",
       "      <td>6.381075e+07</td>\n",
       "    </tr>\n",
       "    <tr>\n",
       "      <th>50%</th>\n",
       "      <td>19.289333</td>\n",
       "      <td>19.766666</td>\n",
       "      <td>18.925333</td>\n",
       "      <td>19.369333</td>\n",
       "      <td>19.369333</td>\n",
       "      <td>8.992350e+07</td>\n",
       "    </tr>\n",
       "    <tr>\n",
       "      <th>75%</th>\n",
       "      <td>109.219334</td>\n",
       "      <td>111.708332</td>\n",
       "      <td>104.000000</td>\n",
       "      <td>108.083332</td>\n",
       "      <td>108.083332</td>\n",
       "      <td>1.341342e+08</td>\n",
       "    </tr>\n",
       "    <tr>\n",
       "      <th>max</th>\n",
       "      <td>411.470001</td>\n",
       "      <td>414.496674</td>\n",
       "      <td>405.666656</td>\n",
       "      <td>409.970001</td>\n",
       "      <td>409.970001</td>\n",
       "      <td>9.140820e+08</td>\n",
       "    </tr>\n",
       "  </tbody>\n",
       "</table>\n",
       "</div>"
      ],
      "text/plain": [
       "              Open         High          Low        Close    Adj Close  \\\n",
       "count  2539.000000  2539.000000  2539.000000  2539.000000  2539.000000   \n",
       "mean     74.678429    76.379583    72.824258    74.639031    74.639031   \n",
       "std     102.121125   104.498214    99.456874   101.999312   101.999312   \n",
       "min       2.294000     2.330667     2.253333     2.292000     2.292000   \n",
       "25%      14.654666    14.838333    14.367000    14.618666    14.618666   \n",
       "50%      19.289333    19.766666    18.925333    19.369333    19.369333   \n",
       "75%     109.219334   111.708332   104.000000   108.083332   108.083332   \n",
       "max     411.470001   414.496674   405.666656   409.970001   409.970001   \n",
       "\n",
       "             Volume  \n",
       "count  2.539000e+03  \n",
       "mean   1.137200e+08  \n",
       "std    8.083709e+07  \n",
       "min    6.603000e+06  \n",
       "25%    6.381075e+07  \n",
       "50%    8.992350e+07  \n",
       "75%    1.341342e+08  \n",
       "max    9.140820e+08  "
      ]
     },
     "execution_count": 4,
     "metadata": {},
     "output_type": "execute_result"
    }
   ],
   "source": [
    "df.describe()"
   ]
  },
  {
   "cell_type": "code",
   "execution_count": 5,
   "metadata": {},
   "outputs": [
    {
     "data": {
      "text/plain": [
       "array([[<AxesSubplot:title={'center':'Open'}>,\n",
       "        <AxesSubplot:title={'center':'High'}>],\n",
       "       [<AxesSubplot:title={'center':'Low'}>,\n",
       "        <AxesSubplot:title={'center':'Close'}>],\n",
       "       [<AxesSubplot:title={'center':'Adj Close'}>,\n",
       "        <AxesSubplot:title={'center':'Volume'}>]], dtype=object)"
      ]
     },
     "execution_count": 5,
     "metadata": {},
     "output_type": "execute_result"
    },
    {
     "data": {
      "image/png": "[encoded data removed]",
      "text/plain": [
       "<Figure size 1152x576 with 6 Axes>"
      ]
     },
     "metadata": {
      "needs_background": "light"
     },
     "output_type": "display_data"
    }
   ],
   "source": [
    "df.hist(figsize=(16,8))"
   ]
  },
  {
   "attachments": {},
   "cell_type": "markdown",
   "metadata": {},
   "source": [
    "Số liệu có phân phối lệch trái nhiều"
   ]
  },
  {
   "cell_type": "code",
   "execution_count": 6,
   "metadata": {},
   "outputs": [
    {
     "data": {
      "text/plain": [
       "<AxesSubplot:>"
      ]
     },
     "execution_count": 6,
     "metadata": {},
     "output_type": "execute_result"
    },
    {
     "data": {
      "image/png": "[encoded data removed]",
      "text/plain": [
       "<Figure size 1152x576 with 1 Axes>"
      ]
     },
     "metadata": {
      "needs_background": "light"
     },
     "output_type": "display_data"
    }
   ],
   "source": [
    "df.boxplot(figsize=(16,8))"
   ]
  },
  {
   "attachments": {},
   "cell_type": "markdown",
   "metadata": {},
   "source": [
    "Có thể thấy Volume là đặc tính có nhiều outlier"
   ]
  },
  {
   "cell_type": "code",
   "execution_count": 8,
   "metadata": {},
   "outputs": [
    {
     "name": "stdout",
     "output_type": "stream",
     "text": [
      "<class 'pandas.core.frame.DataFrame'>\n",
      "RangeIndex: 2539 entries, 0 to 2538\n",
      "Data columns (total 7 columns):\n",
      " #   Column     Non-Null Count  Dtype         \n",
      "---  ------     --------------  -----         \n",
      " 0   Date       2539 non-null   datetime64[ns]\n",
      " 1   Open       2539 non-null   float64       \n",
      " 2   High       2539 non-null   float64       \n",
      " 3   Low        2539 non-null   float64       \n",
      " 4   Close      2539 non-null   float64       \n",
      " 5   Adj Close  2539 non-null   float64       \n",
      " 6   Volume     2539 non-null   int64         \n",
      "dtypes: datetime64[ns](1), float64(5), int64(1)\n",
      "memory usage: 139.0 KB\n"
     ]
    }
   ],
   "source": [
    "# Format lại Date:\n",
    "# df['Date'] = pd.to_datetime(df['Date'],format='%Y-%m-%d')\n",
    "# df.info()"
   ]
  },
  {
   "cell_type": "code",
   "execution_count": 7,
   "metadata": {},
   "outputs": [],
   "source": [
    "# Visulazie các đặc tính:\n",
    "def visualize(df,col):\n",
    "    plt.figure(figsize=(16,8))\n",
    "\n",
    "    plt.subplot(1,2,1)\n",
    "    sns.boxplot(df[col])\n",
    "    plt.title('Spread')\n",
    "\n",
    "    plt.subplot(1,2,2)\n",
    "    sns.distplot(df[col])\n",
    "    plt.title('Distribution')"
   ]
  },
  {
   "cell_type": "code",
   "execution_count": 8,
   "metadata": {},
   "outputs": [
    {
     "name": "stderr",
     "output_type": "stream",
     "text": [
      "c:\\Users\\Admin\\AppData\\Local\\Programs\\Python\\Python310\\lib\\site-packages\\seaborn\\_decorators.py:36: FutureWarning: Pass the following variable as a keyword arg: x. From version 0.12, the only valid positional argument will be `data`, and passing other arguments without an explicit keyword will result in an error or misinterpretation.\n",
      "  warnings.warn(\n",
      "c:\\Users\\Admin\\AppData\\Local\\Programs\\Python\\Python310\\lib\\site-packages\\seaborn\\distributions.py:2619: FutureWarning: `distplot` is a deprecated function and will be removed in a future version. Please adapt your code to use either `displot` (a figure-level function with similar flexibility) or `histplot` (an axes-level function for histograms).\n",
      "  warnings.warn(msg, FutureWarning)\n"
     ]
    },
    {
     "data": {
      "image/png": "[encoded data removed]",
      "text/plain": [
       "<Figure size 1152x576 with 2 Axes>"
      ]
     },
     "metadata": {
      "needs_background": "light"
     },
     "output_type": "display_data"
    }
   ],
   "source": [
    "visualize(df,'Close')"
   ]
  },
  {
   "cell_type": "code",
   "execution_count": 9,
   "metadata": {},
   "outputs": [
    {
     "name": "stdout",
     "output_type": "stream",
     "text": [
      "<class 'pandas.core.frame.DataFrame'>\n",
      "RangeIndex: 2539 entries, 0 to 2538\n",
      "Data columns (total 7 columns):\n",
      " #   Column     Non-Null Count  Dtype  \n",
      "---  ------     --------------  -----  \n",
      " 0   Date       2539 non-null   object \n",
      " 1   Open       2539 non-null   float64\n",
      " 2   High       2539 non-null   float64\n",
      " 3   Low        2539 non-null   float64\n",
      " 4   Close      2539 non-null   float64\n",
      " 5   Adj Close  2539 non-null   float64\n",
      " 6   Volume     2539 non-null   int64  \n",
      "dtypes: float64(5), int64(1), object(1)\n",
      "memory usage: 139.0+ KB\n"
     ]
    }
   ],
   "source": [
    "df.info()"
   ]
  },
  {
   "cell_type": "code",
   "execution_count": 18,
   "metadata": {},
   "outputs": [],
   "source": [
    "X = df.drop(columns={'Close','Adj Close','Date'})\n",
    "y= df['Close']"
   ]
  },
  {
   "cell_type": "code",
   "execution_count": 19,
   "metadata": {},
   "outputs": [],
   "source": [
    "X_train, X_test, y_train, y_test = train_test_split(X,y,test_size=0.3,random_state=42)"
   ]
  },
  {
   "cell_type": "code",
   "execution_count": 40,
   "metadata": {},
   "outputs": [
    {
     "data": {
      "text/plain": [
       "(1777,)"
      ]
     },
     "execution_count": 40,
     "metadata": {},
     "output_type": "execute_result"
    }
   ],
   "source": [
    "y_train.shape"
   ]
  },
  {
   "cell_type": "code",
   "execution_count": 32,
   "metadata": {},
   "outputs": [],
   "source": [
    "scaler = StandardScaler()\n",
    "scaler.fit(X_train)\n",
    "X_train = scaler.transform(X_train)\n",
    "X_test = scaler.transform(X_test)"
   ]
  },
  {
   "cell_type": "code",
   "execution_count": 33,
   "metadata": {},
   "outputs": [],
   "source": [
    "model = LinearRegression()\n",
    "model.fit(X_train,y_train)\n",
    "y_pred = model.predict(X_test)"
   ]
  },
  {
   "cell_type": "code",
   "execution_count": 34,
   "metadata": {},
   "outputs": [
    {
     "data": {
      "text/plain": [
       "0.9996686147841781"
      ]
     },
     "execution_count": 34,
     "metadata": {},
     "output_type": "execute_result"
    }
   ],
   "source": [
    "r2_score(y_test,y_pred)"
   ]
  },
  {
   "cell_type": "code",
   "execution_count": 42,
   "metadata": {},
   "outputs": [
    {
     "data": {
      "text/plain": [
       "0.008429066371075971"
      ]
     },
     "execution_count": 42,
     "metadata": {},
     "output_type": "execute_result"
    }
   ],
   "source": [
    "mean_absolute_percentage_error(y_test,y_pred)"
   ]
  },
  {
   "cell_type": "code",
   "execution_count": 41,
   "metadata": {},
   "outputs": [
    {
     "data": {
      "text/plain": [
       "<matplotlib.collections.PathCollection at 0x26893eb4cd0>"
      ]
     },
     "execution_count": 41,
     "metadata": {},
     "output_type": "execute_result"
    },
    {
     "data": {
      "image/png": "[encoded data removed]",
      "text/plain": [
       "<Figure size 432x288 with 1 Axes>"
      ]
     },
     "metadata": {
      "needs_background": "light"
     },
     "output_type": "display_data"
    }
   ],
   "source": [
    "plt.scatter(y_pred, y_test, color='red') "
   ]
  }
 ],
 "metadata": {
  "kernelspec": {
   "display_name": "Python 3",
   "language": "python",
   "name": "python3"
  },
  "language_info": {
   "codemirror_mode": {
    "name": "ipython",
    "version": 3
   },
   "file_extension": ".py",
   "mimetype": "text/x-python",
   "name": "python",
   "nbconvert_exporter": "python",
   "pygments_lexer": "ipython3",
   "version": "3.10.4"
  },
  "orig_nbformat": 4,
  "vscode": {
   "interpreter": {
    "hash": "a42ccb73e7d9bfdf27e036f1d2b8b681e55fc0743cc5586bc2474d4a60f4b886"
   }
  }
 },
 "nbformat": 4,
 "nbformat_minor": 2
}
